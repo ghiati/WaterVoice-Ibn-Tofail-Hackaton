{
 "cells": [
  {
   "cell_type": "code",
   "execution_count": 1,
   "metadata": {},
   "outputs": [],
   "source": [
    "import os\n",
    "from dotenv import load_dotenv\n",
    "\n",
    "load_dotenv()\n",
    "groq_api_key = os.getenv(\"GROQ_API_KEY\")"
   ]
  },
  {
   "cell_type": "code",
   "execution_count": 2,
   "metadata": {},
   "outputs": [
    {
     "data": {
      "text/plain": [
       "AIMessage(content=\"Building a great company requires a combination of strategic planning, effective leadership, and a strong culture. Here are some key steps to help you build a great company:\\n\\n1. **Define your mission and vision**: Establish a clear purpose, mission, and vision for your company. This will guide your decision-making and help you stay focused on what's most important.\\n2. **Develop a strong business plan**: Create a comprehensive business plan that outlines your goals, target market, competitive landscape, and financial projections.\\n3. **Build a talented team**: Hire people who share your vision and values. Look for individuals with diverse skills, experience, and perspectives.\\n4. **Foster a positive company culture**: Create a culture that values innovation, collaboration, and continuous learning. Encourage open communication, feedback, and transparency.\\n5. **Set clear goals and expectations**: Establish clear goals, objectives, and key performance indicators (KPIs) for each team member and department.\\n6. **Lead by example**: Demonstrate the behaviors and values you want your team to emulate. Lead with integrity, empathy, and a commitment to excellence.\\n7. **Emphasize innovation and creativity**: Encourage experimentation, calculated risk-taking, and continuous learning. Provide resources and support for innovation and creativity.\\n8. **Focus on customer satisfaction**: Prioritize customer satisfaction and experience. Gather feedback, measure satisfaction, and make data-driven decisions to improve your products or services.\\n9. **Stay agile and adaptable**: Stay nimble and responsive to changes in the market, industry, or economy. Be willing to pivot or adjust your strategy as needed.\\n10. **Measure and evaluate performance**: Regularly assess your company's performance using metrics such as revenue growth, customer satisfaction, and employee engagement.\\n11. **Stay true to your values**: Stick to your core values and principles, even in the face of challenges or setbacks.\\n12. **Continuously learn and improve**: Stay up-to-date with industry trends, best practices, and new technologies. Attend conferences, workshops, and training sessions to stay ahead of the curve.\\n13. **Build strong relationships**: Foster strong relationships with customers, partners, suppliers, and investors. Nurture these relationships through regular communication and mutual support.\\n14. **Prioritize employee well-being**: Support the well-being and happiness of your employees. Provide competitive compensation, benefits, and opportunities for growth and development.\\n15. **Maintain a strong financial foundation**: Manage your finances carefully, including cash flow, profitability, and debt management.\\n16. **Stay compliant with regulations**: Ensure that your company complies with all relevant laws, regulations, and industry standards.\\n17. **Foster a culture of continuous improvement**: Encourage a culture of continuous improvement, where employees are empowered to identify areas for improvement and suggest solutions.\\n18. **Create a strong online presence**: Develop a professional website, social media presence, and other online channels to showcase your brand and engage with customers.\\n19. **Develop strategic partnerships**: Form partnerships with other companies, organizations, or individuals that can help you achieve your goals.\\n20. **Stay focused on the long-term**: Prioritize long-term growth and sustainability over short-term gains.\\n\\nRemember, building a great company takes time, effort, and perseverance. Stay committed to your vision, values, and goals, and be willing to adapt and evolve as your company grows.\", additional_kwargs={}, response_metadata={'token_usage': {'completion_tokens': 679, 'prompt_tokens': 46, 'total_tokens': 725, 'completion_time': 2.716, 'prompt_time': 0.008170224, 'queue_time': 0.006448486, 'total_time': 2.724170224}, 'model_name': 'llama-3.1-70b-versatile', 'system_fingerprint': 'fp_9260b4bb2e', 'finish_reason': 'stop', 'logprobs': None}, id='run-32eefafd-9871-4bae-9a8e-fec08875408a-0', usage_metadata={'input_tokens': 46, 'output_tokens': 679, 'total_tokens': 725})"
      ]
     },
     "execution_count": 2,
     "metadata": {},
     "output_type": "execute_result"
    }
   ],
   "source": [
    "from langchain_groq import ChatGroq\n",
    "\n",
    "model = ChatGroq(groq_api_key=groq_api_key, model=\"llama-3.1-70b-versatile\")\n",
    "model.invoke(\"how you can build  a great companty?\")"
   ]
  },
  {
   "cell_type": "code",
   "execution_count": null,
   "metadata": {},
   "outputs": [
    {
     "name": "stdout",
     "output_type": "stream",
     "text": [
      "Generated Report: content=\"**Comprehensive Report on Water Scarcity in Morocco**\\n\\n**1. Introduction**\\n\\nWater scarcity is a pressing global issue that affects millions of people, with far-reaching consequences for the environment, economy, and human well-being. Morocco, a country located in North Africa, is no exception. With a growing population, rapid urbanization, and climate change, Morocco is facing an unprecedented water crisis. The country's water resources are under immense pressure, threatening the livelihoods of its citizens, the economy, and the environment. This report aims to provide an in-depth analysis of the issue of water scarcity in Morocco, its causes, impacts, and potential solutions.\\n\\n**2. Background**\\n\\nMorocco has a long history of managing its water resources, dating back to the Roman era. The country's geography is characterized by a Mediterranean climate, with limited rainfall and high evaporation rates. Morocco's water resources are mainly sourced from surface water (rivers, lakes, and reservoirs), groundwater, and desalination. The country's population has grown significantly over the past few decades, from approximately 17 million in 1980 to over 36 million in 2020. This rapid population growth, combined with economic development and urbanization, has put immense pressure on the country's water resources.\\n\\n**3. Causes**\\n\\nThe main causes of water scarcity in Morocco can be attributed to the following factors:\\n\\n* **Climate Change**: Rising temperatures and changing precipitation patterns have led to more frequent and severe droughts, affecting the country's water resources.\\n* **Droughts**: Morocco has experienced several severe droughts in recent years, including the 2016-2017 drought, which was the worst in over 30 years.\\n* **Overuse of Groundwater**: Groundwater is Morocco's primary source of water, but its overuse has led to depletion of aquifers and saltwater intrusion.\\n* **Agricultural Practices**: Irrigation is a significant water user in Morocco, accounting for over 80% of the country's water consumption. However, inefficient irrigation systems and water-intensive crops have exacerbated water scarcity.\\n* **Urbanization**: Rapid urbanization has led to increased water demand, putting pressure on already strained water resources.\\n\\n**4. Current Impacts**\\n\\nThe impacts of water scarcity in Morocco are far-reaching and multifaceted:\\n\\n* **Economic Impacts**: Water scarcity has significant economic implications, particularly in the agricultural sector, which accounts for over 15% of the country's GDP. The 2016-2017 drought resulted in losses of over $1 billion.\\n* **Agricultural Impacts**: Water scarcity has led to reduced crop yields, lower quality crops, and increased food prices. Morocco's agricultural sector is heavily reliant on imported water-intensive crops, further exacerbating the issue.\\n* **Social Impacts**: Water scarcity affects the daily lives of Moroccans, particularly in rural areas, where access to clean water is limited. Women and children are disproportionately affected, as they are often responsible for collecting water.\\n* **Environmental Impacts**: Water scarcity has led to the degradation of natural habitats, loss of biodiversity, and increased pollution.\\n\\n**5. Latest Developments and News**\\n\\nIn recent years, the Moroccan government has taken steps to address the water crisis:\\n\\n* **The Water Law (2018)**: This law aims to promote water conservation, efficient use of water resources, and the protection of water ecosystems.\\n* **The National Water Strategy (2018-2030)**: This strategy outlines a comprehensive plan to address water scarcity, including the development of new water sources, improvement of water infrastructure, and promotion of water-efficient practices.\\n* **Desalination Projects**: Morocco has invested in several desalination projects, including the construction of a new desalination plant in Casablanca, which is expected to provide clean water to over 1 million people.\\n* **International Support**: Morocco has received financial and technical support from international organizations, such as the World Bank and the European Union, to address water scarcity.\\n\\n**6. Potential Solutions**\\n\\nTo mitigate water scarcity in Morocco, the following solutions are proposed:\\n\\n* **Short-term Strategies**:\\n\\t+ Improve water infrastructure and distribution networks to reduce losses and increase efficiency.\\n\\t+ Promote water conservation practices, such as rainwater harvesting and efficient irrigation systems.\\n\\t+ Develop emergency response plans to address droughts and other water-related crises.\\n* **Long-term Strategies**:\\n\\t+ Invest in desalination and wastewater treatment to increase the country's water supply.\\n\\t+ Promote sustainable agriculture practices, such as drip irrigation and crop selection, to reduce water consumption.\\n\\t+ Develop new water sources, such as brackish water and fog collection.\\n\\n**7. Conclusion**\\n\\nWater scarcity is a pressing issue in Morocco, with significant impacts on the economy, agriculture, society, and environment. The country's water resources are under immense pressure, and urgent action is required to address the crisis. The Moroccan government, with the support of international organizations, has taken steps to address water scarcity, but more needs to be done. This report has outlined potential solutions to mitigate water scarcity, and it is essential that stakeholders, including policymakers, farmers, and citizens, work together to implement these solutions and ensure a sustainable future for Morocco.\" additional_kwargs={} response_metadata={'token_usage': {'completion_tokens': 1065, 'prompt_tokens': 324, 'total_tokens': 1389, 'completion_time': 4.26, 'prompt_time': 0.078339529, 'queue_time': 0.32423752899999997, 'total_time': 4.338339529}, 'model_name': 'llama-3.1-70b-versatile', 'system_fingerprint': 'fp_b3ae7e594e', 'finish_reason': 'stop', 'logprobs': None} id='run-896faef4-350f-426e-85c6-b144b0dca02f-0' usage_metadata={'input_tokens': 324, 'output_tokens': 1065, 'total_tokens': 1389}\n"
     ]
    }
   ],
   "source": [
    "from langchain_groq import ChatGroq\n",
    "\n",
    "model = ChatGroq(groq_api_key=groq_api_key, model=\"llama-3.1-70b-versatile\")\n",
    "\n",
    "# Define a detailed prompt for a full report\n",
    "report_prompt = \"\"\"\n",
    "Based on the giving informations , Generate a comprehensive report on water scarcity in Morocco. The report should include the following sections:\n",
    "\n",
    "1. **Introduction**: Provide an overview of water scarcity, highlighting why it’s a significant issue globally and why it’s especially pressing in Morocco.\n",
    "\n",
    "2. **Background**: Describe the historical and geographic context of water resources in Morocco. Mention factors such as climate, population growth, and economic activities that influence water availability.\n",
    "\n",
    "3. **Causes**: Detail the main causes of water scarcity in Morocco. Discuss factors such as climate change, droughts, overuse of groundwater, agricultural practices, and urbanization.\n",
    "\n",
    "4. **Current Impacts**: Explain the impacts of water scarcity on Morocco’s economy, agriculture, society, and environment. Include statistics and specific examples, if available.\n",
    "\n",
    "5. **Latest Developments and News**: Summarize the latest news and developments regarding water scarcity in Morocco. Mention any recent policies, projects, or international support aimed at addressing the crisis.\n",
    "\n",
    "6. **Potential Solutions**: Outline possible solutions and recommendations to mitigate water scarcity. Cover both short-term and long-term strategies, such as water conservation, infrastructure improvements, desalination, and sustainable agriculture.\n",
    "\n",
    "7. **Conclusion**: Conclude with a summary of the importance of addressing water scarcity in Morocco and a call to action for stakeholders.\n",
    "\n",
    "Generate the report in a formal tone, with each section clearly labeled. Ensure it’s suitable for readers seeking an in-depth understanding of the issue.\n",
    "\n",
    "\"\"\"\n",
    "\n",
    "# Invoke the model with the detailed prompt\n",
    "response = model.invoke(report_prompt)\n",
    "print(\"Generated Report:\", response)\n"
   ]
  },
  {
   "cell_type": "code",
   "execution_count": null,
   "metadata": {},
   "outputs": [
    {
     "name": "stdout",
     "output_type": "stream",
     "text": [
      "We began with simulations that assess impacts of reductions in water supply at different rates. Then, we took into account impacts of climate change on crop ... In fact, water isotopes provide valuable insights on the water ... water scarcity in souss-massa region in southern morocco. R. Choukr‐Allah, R ... ... scarcity;management of water supply;global water partnership;urban... See ... COMPLETE REPORT. Official version of document (may contain signatures, etc). With a focus on biodiversity conservation, water scarcity, climate ... This manuscript provides a comprehensive overview of Morocco's environmental ... Regarding climate adaptation and mitigation, Morocco is investing in infrastructure to address water scarcity and is committing to ambitious decarbonization ... Nov 29, 2022 ... Overview. Morocco has experienced annual rain deficits since 2015 causing weak runoffs, a reduction in water supply to dams, and diminished ... The World Bank helps governments solve water supply, sanitation, water resource, hydropower and irrigation problems through finance and knowledge. country diagnostics, policy dialogue, and strategic planning by providing comprehensive overviews of trends ... water scarcity. Morocco is also working to improve ... Jul 6, 2023 ... This essay aims to provide a useful overview and analysis of the ... water supply fell below the Falkenmark threshold for water scarcity. Apr 26, 2023 ... Agriculture in Egypt faces many challenges, including water scarcity, water pollution, desertification ... Overview for comprehensive.\n"
     ]
    }
   ],
   "source": [
    "import os\n",
    "from langchain_core.tools import Tool\n",
    "from langchain_google_community import GoogleSearchAPIWrapper\n",
    "from dotenv import load_dotenv\n",
    "\n",
    "load_dotenv()\n",
    "search = GoogleSearchAPIWrapper()\n",
    "\n",
    "# Create the tool\n",
    "tool = Tool(\n",
    "    name=\"google_search\",\n",
    "    description=\"Search Google for recent results.\",\n",
    "    func=search.run,\n",
    ")\n",
    "\n",
    "# Structured research prompt for water scarcity in Morocco\n",
    "research_prompt = \"\"\"\n",
    "Provide a comprehensive overview of water scarcity in Morocco, focusing on causes, impacts, and potential solutions.\n",
    "\"\"\"\n",
    "\n",
    "# Perform the search\n",
    "search_results = tool.run(f\"{research_prompt}\")\n",
    "print(search_results)"
   ]
  },
  {
   "cell_type": "code",
   "execution_count": 5,
   "metadata": {},
   "outputs": [],
   "source": [
    "import os\n",
    "from langchain_core.tools import Tool\n",
    "from langchain_google_community import GoogleSearchAPIWrapper\n",
    "from dotenv import load_dotenv\n",
    "\n",
    "load_dotenv()\n",
    "search = GoogleSearchAPIWrapper()\n",
    "\n",
    "# Create the tool\n",
    "tool = Tool(\n",
    "    name=\"google_search\",\n",
    "    description=\"Search Google for recent results.\",\n",
    "    func=search.run,\n",
    ")"
   ]
  },
  {
   "cell_type": "code",
   "execution_count": 7,
   "metadata": {},
   "outputs": [
    {
     "data": {
      "text/plain": [
       "\"France became the first team in history to score three goals in a World Cup final and lose. Messi was named the man of the match and won the Golden Ball as\\xa0... Dec 18, 2023 ... Saudi Arabia 2-1 Argentina. Nov. 22, 2022. The tournament is two days old and already has its first great upset. Messi's first-half penalty puts\\xa0... Argentina were crowned the champions after winning the final against the title holder France 4–2 on penalties following a 3–3 draw after extra time. It was\\xa0... The FIFA World Cup Qatar 2022™ was played from 20 November to 18 December 2022. 32 teams competed across 64 matches in the 22nd edition of the tournament. 2022 FIFA World Cup, international football (soccer) tournament that took place in Qatar from November 20 to December 18, 2022, and was contested by the\\xa0... Nov 27, 2022 ... Why isn't it possible to play the 2022 World Cup in career mode? ... Can you win the world cup in player career mode with a national team for\\xa0... Sep 19, 2024 ... Meanwhile, Germany and Italy rank joint-second, with four titles each. Argentina, winners of the 2022 tournament, have won three World Cups. The Brewers Association recognized 329 winners during the 2024 World Beer Cup awards ceremony on April 24, 2024. ASD Napoli are the World Winners Cup champions! World Winners Cup. 2 October 2023. Riga FC took second and Pafos FC finished third. Celebrate the newest Imagine Cup winners. Meet the semi ... 2022 Winners. 2021, Team: REWEBA Country/Region: Kenya World Championship Winners.\""
      ]
     },
     "execution_count": 7,
     "metadata": {},
     "output_type": "execute_result"
    }
   ],
   "source": [
    "tool.run(\"who win the word cup in 2022\")"
   ]
  },
  {
   "cell_type": "code",
   "execution_count": null,
   "metadata": {},
   "outputs": [
    {
     "name": "stdout",
     "output_type": "stream",
     "text": [
      "Search Results: Jul 6, 2023 ... The impacts of sea-level rise on infrastructure, economic activity, and the social fabric of these regions could be catastrophic, with nearly ... This Synthesis Report (SYR) of the IPCC Sixth Assessment Report (AR6) summarises the state of knowledge of climate change, its widespread impacts and risks, and ... The World Bank helps governments solve water supply, sanitation, water resource, hydropower and irrigation problems through finance and knowledge. In addition, a major reduction in water supply could cause idled capacity across the country, which could intensify the adverse impacts of water scarcity on the ... ... overview of Nigeria's water crisis, its causes, impacts, and potential solutions. ... focus on the comprehensive impacts of water scarcity on different ... ... impacts on water supply, biodiversity, and agriculture and the potentially simultaneous increase in flooding poses a serious water pollution threat.30. In ... and 1985 caused food shortages and civil unrest and drove Morocco's ... Brika. The water crisis in Libya: causes, consequences and potential solutions ... Direct impacts include effects caused by a modification of physical characteristics such as temperature. Page 13. Summary xi levels and rainfall distribution on ... Global. Trends reflects the National Intelligence Council's perspective on these future trends; it does not represent the official, coordinated view of the US ... Sep 1, 2022 ... ... full cost recovery for water services provided. ... Brika, Bashir (2019) The water crisis in Libya: causes, consequences and potential solutions.\n",
      "Model Response: content=\"**Water Scarcity in Morocco: A Comprehensive Report**\\n\\n**Introduction**\\n\\nWater scarcity is a pressing issue affecting various regions worldwide, including Morocco. The North African country is experiencing severe water shortages due to climate change, inadequate infrastructure, and unsustainable water management practices. This report aims to provide an overview of the water scarcity situation in Morocco, its causes, impacts, and potential solutions.\\n\\n**Causes of Water Scarcity in Morocco**\\n\\n1. **Climate Change**: Climate change is a significant contributor to water scarcity in Morocco. Rising temperatures and altered rainfall patterns have resulted in reduced water availability, affecting both surface and groundwater sources.\\n2. **Inadequate Infrastructure**: Morocco's water infrastructure is aging and inefficient, leading to significant water losses during distribution and treatment processes.\\n3. **Unsustainable Water Management**: Over-extraction of groundwater, inefficient irrigation systems, and lack of water reuse and recycling practices exacerbate water scarcity in Morocco.\\n\\n**Impacts of Water Scarcity in Morocco**\\n\\n1. **Agricultural Impacts**: Water scarcity affects agricultural productivity, leading to reduced crop yields and decreased food security.\\n2. **Economic Impacts**: Water scarcity can cause idled capacity across various industries, including manufacturing, energy, and tourism, resulting in significant economic losses.\\n3. **Social Impacts**: Water scarcity can lead to social unrest, migration, and health issues, particularly in rural areas where access to water is limited.\\n4. **Environmental Impacts**: Water scarcity can result in decreased biodiversity, land degradation, and increased water pollution.\\n\\n**Potential Solutions to Water Scarcity in Morocco**\\n\\n1. **Water Conservation**: Implementing water-saving measures, such as efficient irrigation systems and water reuse and recycling practices, can help reduce water demand.\\n2. **Water Infrastructure Development**: Investing in modern water infrastructure, including desalination plants and efficient distribution systems, can improve water availability and reduce losses.\\n3. **Water Governance**: Strengthening water governance and management practices, including effective monitoring and enforcement, can help ensure sustainable water use.\\n4. **Climate Change Adaptation**: Implementing climate-resilient water management strategies can help Morocco adapt to the impacts of climate change.\\n\\n**Conclusion**\\n\\nWater scarcity is a significant challenge facing Morocco, with far-reaching impacts on the country's economy, environment, and society. Addressing this issue requires a comprehensive approach that incorporates water conservation, infrastructure development, effective governance, and climate change adaptation. By implementing these solutions, Morocco can mitigate the impacts of water scarcity and ensure a more sustainable future for its citizens.\" additional_kwargs={} response_metadata={'token_usage': {'completion_tokens': 514, 'prompt_tokens': 371, 'total_tokens': 885, 'completion_time': 2.056, 'prompt_time': 0.064055253, 'queue_time': 0.0034859459999999898, 'total_time': 2.120055253}, 'model_name': 'llama-3.1-70b-versatile', 'system_fingerprint': 'fp_5c5d1b5cfb', 'finish_reason': 'stop', 'logprobs': None} id='run-91f7dacc-995e-4fed-a419-eec8ebaa4745-0' usage_metadata={'input_tokens': 371, 'output_tokens': 514, 'total_tokens': 885}\n"
     ]
    }
   ],
   "source": [
    "import os\n",
    "from dotenv import load_dotenv\n",
    "from langchain_groq import ChatGroq\n",
    "from langchain_core.tools import Tool\n",
    "from langchain_google_community import GoogleSearchAPIWrapper\n",
    "\n",
    "\n",
    "# Load environment variables\n",
    "load_dotenv()\n",
    "\n",
    "# Set up the ChatGroq model\n",
    "groq_api_key = os.getenv(\"GROQ_API_KEY\")\n",
    "model = ChatGroq(groq_api_key=groq_api_key, model=\"llama-3.1-70b-versatile\")\n",
    "\n",
    "# Set up the Google Search tool\n",
    "search = GoogleSearchAPIWrapper()\n",
    "tool = Tool(\n",
    "    name=\"google_search\",\n",
    "    description=\"Search Google for recent results.\",\n",
    "    func=search.run,\n",
    ")\n",
    "\n",
    "# Define your research prompt\n",
    "research_prompt = \"\"\"\n",
    "Provide a comprehensive overview of water scarcity in Morocco, focusing on causes, impacts, and potential solutions.\n",
    "\"\"\"\n",
    "\n",
    "# Perform the search\n",
    "search_results = tool.run(research_prompt)\n",
    "print(\"Search Results:\", search_results)\n",
    "\n",
    "# Use the ChatGroq model to interpret and expand upon the search results\n",
    "response = model.invoke(f\"Based on the following information, give a full report about wather scarity in morocco:\\n\\n{search_results}\")\n",
    "print(\"Model Response:\", response)\n"
   ]
  },
  {
   "cell_type": "code",
   "execution_count": 14,
   "metadata": {},
   "outputs": [
    {
     "name": "stdout",
     "output_type": "stream",
     "text": [
      "Search Results: Recent economic developments. The country faced a surge in public debt due to fiscal measures taken in response to external shocks, which resulted in losing ... Global. Trends reflects the National Intelligence Council's perspective on these future trends; it does not represent the official, coordinated view of the US ... Growth in Sub-Saharan Africa is projected to accelerate from a low of 2.6% in 2023 to 3.4 % in 2024. However, recovery remains fragile due to uncertain ... November 2022, https://www.bloomberg.com/news/articles/2022-11-07/debt-for ... Recent and current events such as COVID-19 and the cost-of-living crisis ... Climate change is caused by human activities and threatens life on earth as we know it. With rising greenhouse gas emissions, climate change is occurring at ... Jul 6, 2023 ... Climate change and its effects—such as extreme temperatures, droughts, and floods—have been preoccupations of Middle East peoples for millennia, ... This Synthesis Report (SYR) of the IPCC Sixth Assessment Report (AR6) summarises the state of knowledge of climate change, its widespread impacts and risks, and ... Sep 26, 2024 ... Palestinian President urges international community to hold Israel accountable for 'full-scale war of genocide', on day three of annual general debate. Public Law No: 117-328 (12/23/2022). Consolidated Appropriations Act, 2023. This act provides appropriations to federal agencies for the remainder of FY2023, ... Feb 13, 2024 ... With the accelerating climate crisis and multiplying conflicts, over 330 million people were affected by acute food insecurity in 2023, ...\n",
      "Generated Report: content=\"**Comprehensive Report on Water Scarcity in Morocco**\\n\\n**Introduction**\\n\\nWater scarcity is a pressing global issue that affects millions of people worldwide, with severe consequences on economies, societies, and the environment. Morocco, a country located in the North African region, is particularly vulnerable to water scarcity due to its arid climate, rapid population growth, and increasing urbanization. This report aims to provide an in-depth understanding of water scarcity in Morocco, its causes, impacts, and potential solutions.\\n\\n**Background**\\n\\nMorocco's geography and climate are characterized by a Mediterranean coastal region, a mountainous interior, and a desert region in the south. The country's water resources are limited, with an average annual rainfall of 350 mm, which is significantly below the global average. Morocco's population has grown rapidly, from approximately 20 million in 1990 to over 36 million in 2020. This growth, combined with urbanization and industrialization, has increased water demand, putting pressure on the country's limited water resources.\\n\\nAgriculture is a significant sector in Morocco's economy, accounting for around 15% of GDP and employing approximately 40% of the workforce. However, agricultural practices, such as the use of water-intensive crops and inefficient irrigation systems, have contributed to water scarcity.\\n\\n**Causes**\\n\\nThe main causes of water scarcity in Morocco can be attributed to:\\n\\n1. **Climate Change**: Rising temperatures and changing precipitation patterns have exacerbated droughts and reduced water availability.\\n2. **Droughts**: Morocco has experienced several severe droughts in recent years, including the 2020 drought, which affected over 70% of the country's agricultural land.\\n3. **Groundwater Overuse**: Over-extraction of groundwater has led to decreased water tables and reduced water quality.\\n4. **Agricultural Practices**: Inefficient irrigation systems and water-intensive crops have contributed to water waste and scarcity.\\n5. **Urbanization**: Rapid urbanization has increased water demand, putting pressure on existing water infrastructure.\\n\\n**Current Impacts**\\n\\nWater scarcity in Morocco has significant impacts on the economy, agriculture, society, and environment. Some of the key impacts include:\\n\\n1. **Economic Impacts**: Water scarcity has resulted in significant economic losses, particularly in the agricultural sector, which has affected the livelihoods of thousands of farmers and their families.\\n2. **Agricultural Impacts**: Water scarcity has reduced crop yields, leading to food insecurity and increased dependence on imported food products.\\n3. **Social Impacts**: Water scarcity has affected the health and well-being of communities, particularly in rural areas, where access to clean water is limited.\\n4. **Environmental Impacts**: Water scarcity has led to the degradation of natural habitats and the loss of biodiversity.\\n\\n**Latest Developments and News**\\n\\nRecent economic developments in Morocco have been affected by external shocks, including the COVID-19 pandemic and the cost-of-living crisis. These shocks have resulted in a surge in public debt, which may impact the government's ability to invest in water management infrastructure.\\n\\nClimate change continues to be a significant concern in Morocco, with rising temperatures and changing precipitation patterns exacerbating droughts and water scarcity. The country has been working to address climate change through the implementation of renewable energy projects and sustainable agriculture practices.\\n\\n**Potential Solutions**\\n\\nTo mitigate water scarcity in Morocco, the following potential solutions and recommendations are proposed:\\n\\n1. **Water Conservation**: Implement water-saving measures, such as efficient irrigation systems and water-saving technologies, to reduce water waste and demand.\\n2. **Infrastructure Improvements**: Invest in water management infrastructure, including dams, reservoirs, and water treatment plants, to improve water supply and quality.\\n3. **Desalination**: Consider desalination as a viable option for increasing water supply, particularly in coastal regions.\\n4. **Sustainable Agriculture**: Promote sustainable agriculture practices, such as drip irrigation and crop rotation, to reduce water usage and improve crop yields.\\n5. **Water Pricing**: Implement water pricing mechanisms to encourage water conservation and efficient use.\\n\\n**Conclusion**\\n\\nWater scarcity is a pressing issue in Morocco, with significant impacts on the economy, agriculture, society, and environment. To address this issue, it is essential to adopt a multi-faceted approach that includes water conservation, infrastructure improvements, desalination, and sustainable agriculture. The Moroccan government, international organizations, and civil society must work together to implement these solutions and ensure a sustainable future for the country's water resources.\" additional_kwargs={} response_metadata={'token_usage': {'completion_tokens': 900, 'prompt_tokens': 660, 'total_tokens': 1560, 'completion_time': 3.6, 'prompt_time': 0.115536955, 'queue_time': 0.003598367000000005, 'total_time': 3.715536955}, 'model_name': 'llama-3.1-70b-versatile', 'system_fingerprint': 'fp_b6828be2c9', 'finish_reason': 'stop', 'logprobs': None} id='run-7633eb64-bec0-48aa-8b14-243909393f75-0' usage_metadata={'input_tokens': 660, 'output_tokens': 900, 'total_tokens': 1560}\n"
     ]
    }
   ],
   "source": [
    "import os\n",
    "from dotenv import load_dotenv\n",
    "from langchain_groq import ChatGroq\n",
    "from langchain_core.tools import Tool\n",
    "from langchain_google_community import GoogleSearchAPIWrapper\n",
    "from datetime import datetime\n",
    "\n",
    "# Load environment variables\n",
    "load_dotenv()\n",
    "\n",
    "# Initialize ChatGroq model\n",
    "groq_api_key = os.getenv(\"GROQ_API_KEY\")\n",
    "model = ChatGroq(groq_api_key=groq_api_key, model=\"llama-3.1-70b-versatile\")\n",
    "\n",
    "# Initialize Google Search API Wrapper\n",
    "search = GoogleSearchAPIWrapper()\n",
    "tool = Tool(\n",
    "    name=\"google_search\",\n",
    "    description=\"Search Google for recent results.\",\n",
    "    func=search.run,\n",
    ")\n",
    "\n",
    "# Get the current month and year\n",
    "current_month = datetime.now().strftime(\"%B\")\n",
    "current_year = datetime.now().year\n",
    "\n",
    "# Create a prompt with a specific time frame for the search\n",
    "research_prompt = f\"\"\"\n",
    "Find the latest news articles on water scarcity in Morocco from {current_month} {current_year}. \n",
    "Provide a comprehensive overview of the recent developments, focusing on causes, impacts, and potential solutions \n",
    "discussed in news released this month.\n",
    "\"\"\"\n",
    "\n",
    "# Perform the Google search and get recent results\n",
    "search_results = tool.run(research_prompt)\n",
    "print(\"Search Results:\", search_results)\n",
    "\n",
    "# Define a detailed prompt for the model to generate a full report using the search results\n",
    "report_prompt = f\"\"\"\n",
    "Based on the latest information gathered from Google search results, generate a comprehensive report on water scarcity in Morocco. The report should include the following sections:\n",
    "\n",
    "1. **Introduction**: Provide an overview of water scarcity, explaining its significance globally and why it’s especially pressing in Morocco.\n",
    "\n",
    "2. **Background**: Describe the historical and geographic context of water resources in Morocco, including climate, population growth, and economic activities that affect water availability.\n",
    "\n",
    "3. **Causes**: Detail the main causes of water scarcity in Morocco, such as climate change, droughts, groundwater overuse, agricultural practices, and urbanization.\n",
    "\n",
    "4. **Current Impacts**: Explain the impacts of water scarcity on Morocco’s economy, agriculture, society, and environment, using specific examples or statistics if possible.\n",
    "\n",
    "5. **Latest Developments and News**: Summarize the latest news and developments on water scarcity in Morocco based on the following information:\n",
    "{search_results}\n",
    "\n",
    "6. **Potential Solutions**: Outline potential solutions and recommendations to mitigate water scarcity in Morocco, including both short-term and long-term strategies like water conservation, infrastructure improvements, desalination, and sustainable agriculture.\n",
    "\n",
    "7. **Conclusion**: Summarize the importance of addressing water scarcity in Morocco and encourage action from relevant stakeholders.\n",
    "\n",
    "Generate this report in a formal tone, suitable for readers seeking an in-depth understanding of the issue.\n",
    "\n",
    "\"\"\"\n",
    "\n",
    "# Invoke the model with the report prompt, incorporating search results\n",
    "response = model.invoke(report_prompt)\n",
    "print(\"Generated Report:\", response)\n"
   ]
  },
  {
   "cell_type": "code",
   "execution_count": null,
   "metadata": {},
   "outputs": [],
   "source": []
  },
  {
   "cell_type": "code",
   "execution_count": null,
   "metadata": {},
   "outputs": [],
   "source": []
  },
  {
   "cell_type": "code",
   "execution_count": null,
   "metadata": {},
   "outputs": [],
   "source": []
  },
  {
   "cell_type": "code",
   "execution_count": null,
   "metadata": {},
   "outputs": [],
   "source": []
  },
  {
   "cell_type": "code",
   "execution_count": null,
   "metadata": {},
   "outputs": [],
   "source": []
  },
  {
   "cell_type": "code",
   "execution_count": null,
   "metadata": {},
   "outputs": [],
   "source": []
  }
 ],
 "metadata": {
  "kernelspec": {
   "display_name": "venv",
   "language": "python",
   "name": "python3"
  },
  "language_info": {
   "codemirror_mode": {
    "name": "ipython",
    "version": 3
   },
   "file_extension": ".py",
   "mimetype": "text/x-python",
   "name": "python",
   "nbconvert_exporter": "python",
   "pygments_lexer": "ipython3",
   "version": "3.10.12"
  }
 },
 "nbformat": 4,
 "nbformat_minor": 2
}
